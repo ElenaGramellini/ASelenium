{
 "cells": [
  {
   "cell_type": "code",
   "execution_count": 1,
   "metadata": {},
   "outputs": [],
   "source": [
    "import numpy as np\n",
    "import math\n"
   ]
  },
  {
   "cell_type": "code",
   "execution_count": 3,
   "metadata": {},
   "outputs": [],
   "source": [
    "gAV    = 1 # Avalanche Multiplication Gain\n",
    "F      = 1 # Electric Field\n",
    "FAV    = 1 # Electric Field threshold for Avalanche Multiplication\n",
    "d      = 1 # A-Se distance between electrons (typically in units of um)\n",
    "RIL    = 1 #Resistive Interface Layer\n",
    "e      = 1.6e-19 #elementary charge in Coulomb\n",
    "gammaP = 1 #hole impact ionization coefficient\n",
    "n0     = 1 #number of electrons created by the light source\n",
    "p0     = 1 #number of holes created by the light source\n",
    "te     = 1 #electrons transit time\n",
    "th     = 1 #holes transit time\n",
    "\n"
   ]
  },
  {
   "cell_type": "code",
   "execution_count": 4,
   "metadata": {},
   "outputs": [],
   "source": [
    "def mobility(time=th, distance=d, eField=F):\n",
    "    return distance/(time*eField)\n",
    "    "
   ]
  },
  {
   "cell_type": "code",
   "execution_count": 5,
   "metadata": {},
   "outputs": [],
   "source": [
    "def holeCurent(time=1,timeH=th, distance=d, eField=F, gamma=gammaP):\n",
    "    mob = mobility(timeH, distance, eField)\n",
    "    I   = math.exp(gamma*mob*eField*time)\n",
    "    I   *= e*p0*mob*eField/distance\n",
    "    return I"
   ]
  },
  {
   "cell_type": "code",
   "execution_count": 6,
   "metadata": {},
   "outputs": [],
   "source": [
    "def elecCurentT1(time=1, timeE=te, timeH=th, distance=d, eField=F, gamma=gammaP):\n",
    "    mobE = mobility(timeE, distance, eField)\n",
    "    mobH = mobility(timeH, distance, eField)\n",
    "    I   = ( math.exp(gamma*mobH*eField*time) - math.exp(gamma*mobE*eField*time) )\n",
    "    I   *= e*n0*mobE*eField/distance\n",
    "    return I"
   ]
  },
  {
   "cell_type": "code",
   "execution_count": 7,
   "metadata": {},
   "outputs": [],
   "source": [
    "def elecCurentT2(time=1, timeE=te, timeH=th, distance=d, eField=F, gamma=gammaP):\n",
    "    mobE = mobility(timeE, distance, eField)\n",
    "    mobH = mobility(timeH, distance, eField)\n",
    "    I   = ( math.exp(gamma*distance) - math.exp(gamma*mobE*eField*time) )\n",
    "    I   *= e*n0*mobE*eField/distance\n",
    "    return I"
   ]
  },
  {
   "cell_type": "code",
   "execution_count": null,
   "metadata": {},
   "outputs": [],
   "source": []
  }
 ],
 "metadata": {
  "kernelspec": {
   "display_name": "Python 3",
   "language": "python",
   "name": "python3"
  },
  "language_info": {
   "codemirror_mode": {
    "name": "ipython",
    "version": 3
   },
   "file_extension": ".py",
   "mimetype": "text/x-python",
   "name": "python",
   "nbconvert_exporter": "python",
   "pygments_lexer": "ipython3",
   "version": "3.7.6"
  }
 },
 "nbformat": 4,
 "nbformat_minor": 4
}
